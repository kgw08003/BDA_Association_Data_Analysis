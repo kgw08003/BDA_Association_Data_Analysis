{
 "cells": [
  {
   "cell_type": "markdown",
   "id": "d46d28c4",
   "metadata": {},
   "source": [
    "## 정규표현식\n",
    "- 문자열 처리할 때 나만의 패턴이나, 분석가의 다양한 사례에서 요구하는 조건의 패턴을 만들어서 처리하는 방법\n",
    "- 그 방법을 정규표현식을 이용해서 대부분 처리한다\n",
    "\n",
    "- split, strip, 배웠던 문자열 문법들이 정규표현식과 만나면 정말 다양하게 응용할 수 있습니다\n",
    "- 이메일주소찾기, 아이디,비번 패턴찾기, 회원가입 아이디 패턴 등 이런 다양한 패턴들을 만들 수 있다"
   ]
  },
  {
   "cell_type": "code",
   "execution_count": 1,
   "id": "e8e9f86c",
   "metadata": {},
   "outputs": [],
   "source": [
    "import re \n",
    "# 패턴을 찾는 두 가지 방법 match, search"
   ]
  },
  {
   "cell_type": "code",
   "execution_count": 2,
   "id": "f68fc2db",
   "metadata": {},
   "outputs": [
    {
     "data": {
      "text/plain": [
       "<re.Match object; span=(0, 5), match='Hello'>"
      ]
     },
     "execution_count": 2,
     "metadata": {},
     "output_type": "execute_result"
    }
   ],
   "source": [
    "# 패턴 찾는 방법\n",
    "\n",
    "re.match('Hello', 'Hello, world!')\n",
    "# 내가원하는 패턴인 Hello 찾아서 -> 해당 인덱스 출력"
   ]
  },
  {
   "cell_type": "code",
   "execution_count": 4,
   "id": "474de946",
   "metadata": {},
   "outputs": [
    {
     "data": {
      "text/plain": [
       "<re.Match object; span=(0, 5), match='Hello'>"
      ]
     },
     "execution_count": 4,
     "metadata": {},
     "output_type": "execute_result"
    }
   ],
   "source": [
    "re.search('Hello', 'Hello, world!')\n",
    "# 내가원하는 패턴인 Hello 찾아서 -> 해당 인덱스 출력"
   ]
  },
  {
   "cell_type": "code",
   "execution_count": 7,
   "id": "0e6005a7",
   "metadata": {},
   "outputs": [],
   "source": [
    "re.match('Hello', 'world! Hello ')\n",
    "# match 이기적이라 바로 앞 인덱스만 확인"
   ]
  },
  {
   "cell_type": "code",
   "execution_count": 8,
   "id": "eeb01e1a",
   "metadata": {},
   "outputs": [
    {
     "data": {
      "text/plain": [
       "<re.Match object; span=(7, 12), match='Hello'>"
      ]
     },
     "execution_count": 8,
     "metadata": {},
     "output_type": "execute_result"
    }
   ],
   "source": [
    "re.search('Hello', 'world! Hello ')\n",
    "# search는 전체 문자열에서 확인"
   ]
  },
  {
   "cell_type": "markdown",
   "id": "9c04c1be",
   "metadata": {},
   "source": [
    "## 정규표현식\n",
    "- 숫자를 [0-9]\n",
    "- 영어소문자 [a-z]\n",
    "- 영어대문자 [A-Z]\n",
    "- 한글 [가-힣]\n",
    "- 자음 모음 [ㄱ-ㅎ] [ㅏ-ㅣ]\n",
    "\n",
    "- ^ not 표현으로 제외하고 전부다 라는 것\n",
    "- '+', '*' 0개 이상 또는 1개 이상의 패턴을 모두 찾는 것"
   ]
  },
  {
   "cell_type": "code",
   "execution_count": 9,
   "id": "06914e30",
   "metadata": {},
   "outputs": [
    {
     "data": {
      "text/plain": [
       "<re.Match object; span=(0, 1), match='1'>"
      ]
     },
     "execution_count": 9,
     "metadata": {},
     "output_type": "execute_result"
    }
   ],
   "source": [
    "# 숫자 패턴만 확인\n",
    "\n",
    "re.search('[0-9]','1231243134123,asdfasdf!@3121')"
   ]
  },
  {
   "cell_type": "code",
   "execution_count": 10,
   "id": "cbf99757",
   "metadata": {},
   "outputs": [
    {
     "data": {
      "text/plain": [
       "<re.Match object; span=(0, 13), match='1231243134123'>"
      ]
     },
     "execution_count": 10,
     "metadata": {},
     "output_type": "execute_result"
    }
   ],
   "source": [
    "re.search('[0-9]+','1231243134123,asdfasdf!@3121') # 정규표현식을 이용해서 다양한 문자열 내에서 내가 원하는 문자 패턴을 찾을 수 있다"
   ]
  },
  {
   "cell_type": "code",
   "execution_count": 12,
   "id": "88005b12",
   "metadata": {},
   "outputs": [
    {
     "data": {
      "text/plain": [
       "<re.Match object; span=(6, 9), match='홍길동'>"
      ]
     },
     "execution_count": 12,
     "metadata": {},
     "output_type": "execute_result"
    }
   ],
   "source": [
    "re.search('[가-힣]+','12345/홍길동/asdfa@naver.com/010-111-1111')"
   ]
  },
  {
   "cell_type": "markdown",
   "id": "e71ac414",
   "metadata": {},
   "source": [
    "- {} 숫자를 넣으면 해당 패턴의 문자를 몇 개 찾음\n",
    "- e.g {3} 3개의 패턴을 찾기\n",
    "\n",
    "- 010-0000-0000 "
   ]
  },
  {
   "cell_type": "code",
   "execution_count": 13,
   "id": "93f277e5",
   "metadata": {},
   "outputs": [
    {
     "data": {
      "text/plain": [
       "<re.Match object; span=(0, 13), match='010-1234-5678'>"
      ]
     },
     "execution_count": 13,
     "metadata": {},
     "output_type": "execute_result"
    }
   ],
   "source": [
    "# 휴대전화번호 패턴 찾기\n",
    "re.match('[0-9]{3}-[0-9]{4}-[0-9]{4}','010-1234-5678')"
   ]
  },
  {
   "cell_type": "markdown",
   "id": "cd60557c",
   "metadata": {},
   "source": [
    "- 정규표현식을 여러 개 합쳐서 사용 가능하다"
   ]
  },
  {
   "cell_type": "code",
   "execution_count": 15,
   "id": "2c313a38",
   "metadata": {},
   "outputs": [
    {
     "data": {
      "text/plain": [
       "<re.Match object; span=(0, 9), match='12345/홍길동'>"
      ]
     },
     "execution_count": 15,
     "metadata": {},
     "output_type": "execute_result"
    }
   ],
   "source": [
    "re.search('[가-힣a-zA-Z0-9]+/[가-힣a-zA-Z0-9]+','12345/홍길동/asdfa@naver.com/010-111-1111')"
   ]
  },
  {
   "cell_type": "markdown",
   "id": "3dc78758",
   "metadata": {},
   "source": [
    "- 간단하게 약어의 개념으로\n",
    "\n",
    "- \\d 모든 숫자\n",
    "- \\D 모든 숫자 제외\n",
    "- \\w  영문, 대소문자, 숫자, 밑줄 문자 포함\n",
    "- \\W  영문, 대소문자, 숫자, 밑줄 문자 제외한 나머지"
   ]
  },
  {
   "cell_type": "code",
   "execution_count": 16,
   "id": "9453bda8",
   "metadata": {},
   "outputs": [
    {
     "data": {
      "text/plain": [
       "<re.Match object; span=(0, 13), match='1231243134123'>"
      ]
     },
     "execution_count": 16,
     "metadata": {},
     "output_type": "execute_result"
    }
   ],
   "source": [
    "re.search('\\d+','1231243134123,asdfasdf!@3121')"
   ]
  },
  {
   "cell_type": "markdown",
   "id": "3f6c6f60",
   "metadata": {},
   "source": [
    "### 정규표현식도 그룹으로 사용 가능"
   ]
  },
  {
   "cell_type": "code",
   "execution_count": 17,
   "id": "3a4f307e",
   "metadata": {},
   "outputs": [],
   "source": [
    "ab = re.match('([0-9]+) ([a-z]+)','1234 abc')\n",
    "#ab는 두 개의 그룹으로 정규표현식을 진행"
   ]
  },
  {
   "cell_type": "code",
   "execution_count": 18,
   "id": "3e98ccc2",
   "metadata": {},
   "outputs": [
    {
     "data": {
      "text/plain": [
       "'1234'"
      ]
     },
     "execution_count": 18,
     "metadata": {},
     "output_type": "execute_result"
    }
   ],
   "source": [
    "ab.group(1)"
   ]
  },
  {
   "cell_type": "code",
   "execution_count": 19,
   "id": "41f4481c",
   "metadata": {},
   "outputs": [
    {
     "data": {
      "text/plain": [
       "'abc'"
      ]
     },
     "execution_count": 19,
     "metadata": {},
     "output_type": "execute_result"
    }
   ],
   "source": [
    "ab.group(2)"
   ]
  },
  {
   "cell_type": "code",
   "execution_count": 20,
   "id": "eb61cf19",
   "metadata": {},
   "outputs": [
    {
     "data": {
      "text/plain": [
       "'1234 abc'"
      ]
     },
     "execution_count": 20,
     "metadata": {},
     "output_type": "execute_result"
    }
   ],
   "source": [
    "ab.group(0)"
   ]
  },
  {
   "cell_type": "markdown",
   "id": "1f28ec2e",
   "metadata": {},
   "source": [
    "## 실제 예제 데이터를 가지고 정규표현식 및 텍스트 분석을 진행"
   ]
  },
  {
   "cell_type": "code",
   "execution_count": 63,
   "id": "54dc2947",
   "metadata": {},
   "outputs": [],
   "source": [
    "import pandas as pd\n",
    "import numpy as np\n",
    "df=pd.read_csv('movie_rv.csv')"
   ]
  },
  {
   "cell_type": "code",
   "execution_count": 28,
   "id": "7b9a4a1c",
   "metadata": {
    "scrolled": true
   },
   "outputs": [
    {
     "data": {
      "text/html": [
       "<div>\n",
       "<style scoped>\n",
       "    .dataframe tbody tr th:only-of-type {\n",
       "        vertical-align: middle;\n",
       "    }\n",
       "\n",
       "    .dataframe tbody tr th {\n",
       "        vertical-align: top;\n",
       "    }\n",
       "\n",
       "    .dataframe thead th {\n",
       "        text-align: right;\n",
       "    }\n",
       "</style>\n",
       "<table border=\"1\" class=\"dataframe\">\n",
       "  <thead>\n",
       "    <tr style=\"text-align: right;\">\n",
       "      <th></th>\n",
       "      <th>Unnamed: 0</th>\n",
       "      <th>id</th>\n",
       "      <th>document</th>\n",
       "      <th>label</th>\n",
       "    </tr>\n",
       "  </thead>\n",
       "  <tbody>\n",
       "    <tr>\n",
       "      <th>0</th>\n",
       "      <td>0</td>\n",
       "      <td>9976970</td>\n",
       "      <td>아 더빙.. 진짜 짜증나네요 목소리</td>\n",
       "      <td>0</td>\n",
       "    </tr>\n",
       "    <tr>\n",
       "      <th>1</th>\n",
       "      <td>1</td>\n",
       "      <td>3819312</td>\n",
       "      <td>흠...포스터보고 초딩영화줄....오버연기조차 가볍지 않구나</td>\n",
       "      <td>1</td>\n",
       "    </tr>\n",
       "    <tr>\n",
       "      <th>2</th>\n",
       "      <td>2</td>\n",
       "      <td>10265843</td>\n",
       "      <td>너무재밓었다그래서보는것을추천한다</td>\n",
       "      <td>0</td>\n",
       "    </tr>\n",
       "    <tr>\n",
       "      <th>3</th>\n",
       "      <td>3</td>\n",
       "      <td>9045019</td>\n",
       "      <td>교도소 이야기구먼 ..솔직히 재미는 없다..평점 조정</td>\n",
       "      <td>0</td>\n",
       "    </tr>\n",
       "    <tr>\n",
       "      <th>4</th>\n",
       "      <td>4</td>\n",
       "      <td>6483659</td>\n",
       "      <td>사이몬페그의 익살스런 연기가 돋보였던 영화!스파이더맨에서 늙어보이기만 했던 커스틴 ...</td>\n",
       "      <td>1</td>\n",
       "    </tr>\n",
       "    <tr>\n",
       "      <th>...</th>\n",
       "      <td>...</td>\n",
       "      <td>...</td>\n",
       "      <td>...</td>\n",
       "      <td>...</td>\n",
       "    </tr>\n",
       "    <tr>\n",
       "      <th>149995</th>\n",
       "      <td>149995</td>\n",
       "      <td>6222902</td>\n",
       "      <td>인간이 문제지.. 소는 뭔죄인가..</td>\n",
       "      <td>0</td>\n",
       "    </tr>\n",
       "    <tr>\n",
       "      <th>149996</th>\n",
       "      <td>149996</td>\n",
       "      <td>8549745</td>\n",
       "      <td>평점이 너무 낮아서...</td>\n",
       "      <td>1</td>\n",
       "    </tr>\n",
       "    <tr>\n",
       "      <th>149997</th>\n",
       "      <td>149997</td>\n",
       "      <td>9311800</td>\n",
       "      <td>이게 뭐요? 한국인은 거들먹거리고 필리핀 혼혈은 착하다?</td>\n",
       "      <td>0</td>\n",
       "    </tr>\n",
       "    <tr>\n",
       "      <th>149998</th>\n",
       "      <td>149998</td>\n",
       "      <td>2376369</td>\n",
       "      <td>청춘 영화의 최고봉.방황과 우울했던 날들의 자화상</td>\n",
       "      <td>1</td>\n",
       "    </tr>\n",
       "    <tr>\n",
       "      <th>149999</th>\n",
       "      <td>149999</td>\n",
       "      <td>9619869</td>\n",
       "      <td>한국 영화 최초로 수간하는 내용이 담긴 영화</td>\n",
       "      <td>0</td>\n",
       "    </tr>\n",
       "  </tbody>\n",
       "</table>\n",
       "<p>150000 rows × 4 columns</p>\n",
       "</div>"
      ],
      "text/plain": [
       "        Unnamed: 0        id   \n",
       "0                0   9976970  \\\n",
       "1                1   3819312   \n",
       "2                2  10265843   \n",
       "3                3   9045019   \n",
       "4                4   6483659   \n",
       "...            ...       ...   \n",
       "149995      149995   6222902   \n",
       "149996      149996   8549745   \n",
       "149997      149997   9311800   \n",
       "149998      149998   2376369   \n",
       "149999      149999   9619869   \n",
       "\n",
       "                                                 document  label  \n",
       "0                                     아 더빙.. 진짜 짜증나네요 목소리      0  \n",
       "1                       흠...포스터보고 초딩영화줄....오버연기조차 가볍지 않구나      1  \n",
       "2                                       너무재밓었다그래서보는것을추천한다      0  \n",
       "3                           교도소 이야기구먼 ..솔직히 재미는 없다..평점 조정      0  \n",
       "4       사이몬페그의 익살스런 연기가 돋보였던 영화!스파이더맨에서 늙어보이기만 했던 커스틴 ...      1  \n",
       "...                                                   ...    ...  \n",
       "149995                                인간이 문제지.. 소는 뭔죄인가..      0  \n",
       "149996                                      평점이 너무 낮아서...      1  \n",
       "149997                    이게 뭐요? 한국인은 거들먹거리고 필리핀 혼혈은 착하다?      0  \n",
       "149998                        청춘 영화의 최고봉.방황과 우울했던 날들의 자화상      1  \n",
       "149999                           한국 영화 최초로 수간하는 내용이 담긴 영화      0  \n",
       "\n",
       "[150000 rows x 4 columns]"
      ]
     },
     "execution_count": 28,
     "metadata": {},
     "output_type": "execute_result"
    }
   ],
   "source": [
    "df\n"
   ]
  },
  {
   "cell_type": "markdown",
   "id": "23575d2c",
   "metadata": {},
   "source": [
    "## pandas 에서 제공하는 str 문법\n",
    "- 기존 python 문자열 다루는 문법과 같이 응용해서 사용\n",
    "\n",
    "    - 시리즈 데이터형태.str.원하는 문법들"
   ]
  },
  {
   "cell_type": "code",
   "execution_count": 30,
   "id": "f6f002eb",
   "metadata": {},
   "outputs": [
    {
     "data": {
      "text/plain": [
       "0                                       아 더빙.. 진짜 짜증나네요 목소리\n",
       "1                         흠...포스터보고 초딩영화줄....오버연기조차 가볍지 않구나\n",
       "2                                         너무재밓었다그래서보는것을추천한다\n",
       "3                             교도소 이야기구먼 ..솔직히 재미는 없다..평점 조정\n",
       "4         사이몬페그의 익살스런 연기가 돋보였던 영화!스파이더맨에서 늙어보이기만 했던 커스틴 ...\n",
       "                                ...                        \n",
       "149995                                  인간이 문제지.. 소는 뭔죄인가..\n",
       "149996                                        평점이 너무 낮아서...\n",
       "149997                      이게 뭐요? 한국인은 거들먹거리고 필리핀 혼혈은 착하다?\n",
       "149998                          청춘 영화의 최고봉.방황과 우울했던 날들의 자화상\n",
       "149999                             한국 영화 최초로 수간하는 내용이 담긴 영화\n",
       "Name: document, Length: 150000, dtype: object"
      ]
     },
     "execution_count": 30,
     "metadata": {},
     "output_type": "execute_result"
    }
   ],
   "source": [
    "# stirp() 공백제거 lstrip, rstrip \n",
    "df['document'].str.strip()"
   ]
  },
  {
   "cell_type": "markdown",
   "id": "543c117d",
   "metadata": {},
   "source": [
    "- pad 길이 맞추거나, 0패딩 맞출 때 사용하는 문법"
   ]
  },
  {
   "cell_type": "code",
   "execution_count": 35,
   "id": "4b8737f7",
   "metadata": {},
   "outputs": [
    {
     "data": {
      "text/plain": [
       "0                            /////아 더빙.. 진짜 짜증나네요 목소리//////\n",
       "1                         흠...포스터보고 초딩영화줄....오버연기조차 가볍지 않구나\n",
       "2                            //////너무재밓었다그래서보는것을추천한다///////\n",
       "3                            교도소 이야기구먼 ..솔직히 재미는 없다..평점 조정/\n",
       "4         사이몬페그의 익살스런 연기가 돋보였던 영화!스파이더맨에서 늙어보이기만 했던 커스틴 ...\n",
       "                                ...                        \n",
       "149995                       /////인간이 문제지.. 소는 뭔죄인가..//////\n",
       "149996                       ////////평점이 너무 낮아서.../////////\n",
       "149997                      이게 뭐요? 한국인은 거들먹거리고 필리핀 혼혈은 착하다?\n",
       "149998                       /청춘 영화의 최고봉.방황과 우울했던 날들의 자화상//\n",
       "149999                       ///한국 영화 최초로 수간하는 내용이 담긴 영화///\n",
       "Name: document, Length: 150000, dtype: object"
      ]
     },
     "execution_count": 35,
     "metadata": {},
     "output_type": "execute_result"
    }
   ],
   "source": [
    "#df['document'].str.pad(width=30, side='left', fillchar='*')\n",
    "\n",
    "df['document'].str.center(width=30, fillchar='/') # 가운데 기준으로 원하는 문자를 추가할 수 있다."
   ]
  },
  {
   "cell_type": "code",
   "execution_count": 36,
   "id": "5d1da523",
   "metadata": {},
   "outputs": [
    {
     "data": {
      "text/plain": [
       "0                            아 더빙.. 진짜 짜증나네요 목소리///////////\n",
       "1                         흠...포스터보고 초딩영화줄....오버연기조차 가볍지 않구나\n",
       "2                            너무재밓었다그래서보는것을추천한다/////////////\n",
       "3                            교도소 이야기구먼 ..솔직히 재미는 없다..평점 조정/\n",
       "4         사이몬페그의 익살스런 연기가 돋보였던 영화!스파이더맨에서 늙어보이기만 했던 커스틴 ...\n",
       "                                ...                        \n",
       "149995                       인간이 문제지.. 소는 뭔죄인가..///////////\n",
       "149996                       평점이 너무 낮아서.../////////////////\n",
       "149997                      이게 뭐요? 한국인은 거들먹거리고 필리핀 혼혈은 착하다?\n",
       "149998                       청춘 영화의 최고봉.방황과 우울했던 날들의 자화상///\n",
       "149999                       한국 영화 최초로 수간하는 내용이 담긴 영화//////\n",
       "Name: document, Length: 150000, dtype: object"
      ]
     },
     "execution_count": 36,
     "metadata": {},
     "output_type": "execute_result"
    }
   ],
   "source": [
    "df['document'].str.ljust(width=30, fillchar='/') # 오른쪽에 맞춰서\n"
   ]
  },
  {
   "cell_type": "code",
   "execution_count": 37,
   "id": "e5f5aecf",
   "metadata": {},
   "outputs": [
    {
     "data": {
      "text/plain": [
       "0                            00000000000아 더빙.. 진짜 짜증나네요 목소리\n",
       "1                         흠...포스터보고 초딩영화줄....오버연기조차 가볍지 않구나\n",
       "2                            0000000000000너무재밓었다그래서보는것을추천한다\n",
       "3                            0교도소 이야기구먼 ..솔직히 재미는 없다..평점 조정\n",
       "4         사이몬페그의 익살스런 연기가 돋보였던 영화!스파이더맨에서 늙어보이기만 했던 커스틴 ...\n",
       "                                ...                        \n",
       "149995                       00000000000인간이 문제지.. 소는 뭔죄인가..\n",
       "149996                       00000000000000000평점이 너무 낮아서...\n",
       "149997                      이게 뭐요? 한국인은 거들먹거리고 필리핀 혼혈은 착하다?\n",
       "149998                       000청춘 영화의 최고봉.방황과 우울했던 날들의 자화상\n",
       "149999                       000000한국 영화 최초로 수간하는 내용이 담긴 영화\n",
       "Name: document, Length: 150000, dtype: object"
      ]
     },
     "execution_count": 37,
     "metadata": {},
     "output_type": "execute_result"
    }
   ],
   "source": [
    "df['document'].str.zfill(width=30) #0값을 패딩 길이에 맞춰서 채워줌"
   ]
  },
  {
   "cell_type": "markdown",
   "id": "90849790",
   "metadata": {},
   "source": [
    "### split() : 문자열 나누기"
   ]
  },
  {
   "cell_type": "code",
   "execution_count": 38,
   "id": "de63d821",
   "metadata": {},
   "outputs": [],
   "source": [
    "#split() 구분자 넣고, 원하는 값 나누는 것, expand=True 여러 컬럼으로 나누기, False 1개 컬럼에 나누기\n",
    "df[['document_1','document_2']]=df['document'].str.split(' ', n=1, expand=True )#n구분자 1개"
   ]
  },
  {
   "cell_type": "code",
   "execution_count": 41,
   "id": "51e8ed01",
   "metadata": {},
   "outputs": [],
   "source": [
    "#partition() : 좌측에 먼저 출현한 구분자를 나누는 것 # 3개 기준으로 해서 구분자로 나눠서 데이터를 넣는다.\n",
    "df[['document_1n','document_2n','document_3n']]=df['document'].str.partition(sep=' ')"
   ]
  },
  {
   "cell_type": "code",
   "execution_count": 42,
   "id": "700ecc13",
   "metadata": {},
   "outputs": [
    {
     "data": {
      "text/html": [
       "<div>\n",
       "<style scoped>\n",
       "    .dataframe tbody tr th:only-of-type {\n",
       "        vertical-align: middle;\n",
       "    }\n",
       "\n",
       "    .dataframe tbody tr th {\n",
       "        vertical-align: top;\n",
       "    }\n",
       "\n",
       "    .dataframe thead th {\n",
       "        text-align: right;\n",
       "    }\n",
       "</style>\n",
       "<table border=\"1\" class=\"dataframe\">\n",
       "  <thead>\n",
       "    <tr style=\"text-align: right;\">\n",
       "      <th></th>\n",
       "      <th>Unnamed: 0</th>\n",
       "      <th>id</th>\n",
       "      <th>document</th>\n",
       "      <th>label</th>\n",
       "      <th>document_1</th>\n",
       "      <th>document_2</th>\n",
       "      <th>document_1n</th>\n",
       "      <th>document_2n</th>\n",
       "      <th>document_3n</th>\n",
       "    </tr>\n",
       "  </thead>\n",
       "  <tbody>\n",
       "    <tr>\n",
       "      <th>0</th>\n",
       "      <td>0</td>\n",
       "      <td>9976970</td>\n",
       "      <td>아 더빙.. 진짜 짜증나네요 목소리</td>\n",
       "      <td>0</td>\n",
       "      <td>아</td>\n",
       "      <td>더빙.. 진짜 짜증나네요 목소리</td>\n",
       "      <td>아</td>\n",
       "      <td></td>\n",
       "      <td>더빙.. 진짜 짜증나네요 목소리</td>\n",
       "    </tr>\n",
       "    <tr>\n",
       "      <th>1</th>\n",
       "      <td>1</td>\n",
       "      <td>3819312</td>\n",
       "      <td>흠...포스터보고 초딩영화줄....오버연기조차 가볍지 않구나</td>\n",
       "      <td>1</td>\n",
       "      <td>흠...포스터보고</td>\n",
       "      <td>초딩영화줄....오버연기조차 가볍지 않구나</td>\n",
       "      <td>흠...포스터보고</td>\n",
       "      <td></td>\n",
       "      <td>초딩영화줄....오버연기조차 가볍지 않구나</td>\n",
       "    </tr>\n",
       "    <tr>\n",
       "      <th>2</th>\n",
       "      <td>2</td>\n",
       "      <td>10265843</td>\n",
       "      <td>너무재밓었다그래서보는것을추천한다</td>\n",
       "      <td>0</td>\n",
       "      <td>너무재밓었다그래서보는것을추천한다</td>\n",
       "      <td>None</td>\n",
       "      <td>너무재밓었다그래서보는것을추천한다</td>\n",
       "      <td></td>\n",
       "      <td></td>\n",
       "    </tr>\n",
       "    <tr>\n",
       "      <th>3</th>\n",
       "      <td>3</td>\n",
       "      <td>9045019</td>\n",
       "      <td>교도소 이야기구먼 ..솔직히 재미는 없다..평점 조정</td>\n",
       "      <td>0</td>\n",
       "      <td>교도소</td>\n",
       "      <td>이야기구먼 ..솔직히 재미는 없다..평점 조정</td>\n",
       "      <td>교도소</td>\n",
       "      <td></td>\n",
       "      <td>이야기구먼 ..솔직히 재미는 없다..평점 조정</td>\n",
       "    </tr>\n",
       "    <tr>\n",
       "      <th>4</th>\n",
       "      <td>4</td>\n",
       "      <td>6483659</td>\n",
       "      <td>사이몬페그의 익살스런 연기가 돋보였던 영화!스파이더맨에서 늙어보이기만 했던 커스틴 ...</td>\n",
       "      <td>1</td>\n",
       "      <td>사이몬페그의</td>\n",
       "      <td>익살스런 연기가 돋보였던 영화!스파이더맨에서 늙어보이기만 했던 커스틴 던스트가 너무...</td>\n",
       "      <td>사이몬페그의</td>\n",
       "      <td></td>\n",
       "      <td>익살스런 연기가 돋보였던 영화!스파이더맨에서 늙어보이기만 했던 커스틴 던스트가 너무...</td>\n",
       "    </tr>\n",
       "    <tr>\n",
       "      <th>...</th>\n",
       "      <td>...</td>\n",
       "      <td>...</td>\n",
       "      <td>...</td>\n",
       "      <td>...</td>\n",
       "      <td>...</td>\n",
       "      <td>...</td>\n",
       "      <td>...</td>\n",
       "      <td>...</td>\n",
       "      <td>...</td>\n",
       "    </tr>\n",
       "    <tr>\n",
       "      <th>149995</th>\n",
       "      <td>149995</td>\n",
       "      <td>6222902</td>\n",
       "      <td>인간이 문제지.. 소는 뭔죄인가..</td>\n",
       "      <td>0</td>\n",
       "      <td>인간이</td>\n",
       "      <td>문제지.. 소는 뭔죄인가..</td>\n",
       "      <td>인간이</td>\n",
       "      <td></td>\n",
       "      <td>문제지.. 소는 뭔죄인가..</td>\n",
       "    </tr>\n",
       "    <tr>\n",
       "      <th>149996</th>\n",
       "      <td>149996</td>\n",
       "      <td>8549745</td>\n",
       "      <td>평점이 너무 낮아서...</td>\n",
       "      <td>1</td>\n",
       "      <td>평점이</td>\n",
       "      <td>너무 낮아서...</td>\n",
       "      <td>평점이</td>\n",
       "      <td></td>\n",
       "      <td>너무 낮아서...</td>\n",
       "    </tr>\n",
       "    <tr>\n",
       "      <th>149997</th>\n",
       "      <td>149997</td>\n",
       "      <td>9311800</td>\n",
       "      <td>이게 뭐요? 한국인은 거들먹거리고 필리핀 혼혈은 착하다?</td>\n",
       "      <td>0</td>\n",
       "      <td>이게</td>\n",
       "      <td>뭐요? 한국인은 거들먹거리고 필리핀 혼혈은 착하다?</td>\n",
       "      <td>이게</td>\n",
       "      <td></td>\n",
       "      <td>뭐요? 한국인은 거들먹거리고 필리핀 혼혈은 착하다?</td>\n",
       "    </tr>\n",
       "    <tr>\n",
       "      <th>149998</th>\n",
       "      <td>149998</td>\n",
       "      <td>2376369</td>\n",
       "      <td>청춘 영화의 최고봉.방황과 우울했던 날들의 자화상</td>\n",
       "      <td>1</td>\n",
       "      <td>청춘</td>\n",
       "      <td>영화의 최고봉.방황과 우울했던 날들의 자화상</td>\n",
       "      <td>청춘</td>\n",
       "      <td></td>\n",
       "      <td>영화의 최고봉.방황과 우울했던 날들의 자화상</td>\n",
       "    </tr>\n",
       "    <tr>\n",
       "      <th>149999</th>\n",
       "      <td>149999</td>\n",
       "      <td>9619869</td>\n",
       "      <td>한국 영화 최초로 수간하는 내용이 담긴 영화</td>\n",
       "      <td>0</td>\n",
       "      <td>한국</td>\n",
       "      <td>영화 최초로 수간하는 내용이 담긴 영화</td>\n",
       "      <td>한국</td>\n",
       "      <td></td>\n",
       "      <td>영화 최초로 수간하는 내용이 담긴 영화</td>\n",
       "    </tr>\n",
       "  </tbody>\n",
       "</table>\n",
       "<p>150000 rows × 9 columns</p>\n",
       "</div>"
      ],
      "text/plain": [
       "        Unnamed: 0        id   \n",
       "0                0   9976970  \\\n",
       "1                1   3819312   \n",
       "2                2  10265843   \n",
       "3                3   9045019   \n",
       "4                4   6483659   \n",
       "...            ...       ...   \n",
       "149995      149995   6222902   \n",
       "149996      149996   8549745   \n",
       "149997      149997   9311800   \n",
       "149998      149998   2376369   \n",
       "149999      149999   9619869   \n",
       "\n",
       "                                                 document  label   \n",
       "0                                     아 더빙.. 진짜 짜증나네요 목소리      0  \\\n",
       "1                       흠...포스터보고 초딩영화줄....오버연기조차 가볍지 않구나      1   \n",
       "2                                       너무재밓었다그래서보는것을추천한다      0   \n",
       "3                           교도소 이야기구먼 ..솔직히 재미는 없다..평점 조정      0   \n",
       "4       사이몬페그의 익살스런 연기가 돋보였던 영화!스파이더맨에서 늙어보이기만 했던 커스틴 ...      1   \n",
       "...                                                   ...    ...   \n",
       "149995                                인간이 문제지.. 소는 뭔죄인가..      0   \n",
       "149996                                      평점이 너무 낮아서...      1   \n",
       "149997                    이게 뭐요? 한국인은 거들먹거리고 필리핀 혼혈은 착하다?      0   \n",
       "149998                        청춘 영화의 최고봉.방황과 우울했던 날들의 자화상      1   \n",
       "149999                           한국 영화 최초로 수간하는 내용이 담긴 영화      0   \n",
       "\n",
       "               document_1                                         document_2   \n",
       "0                       아                                  더빙.. 진짜 짜증나네요 목소리  \\\n",
       "1               흠...포스터보고                            초딩영화줄....오버연기조차 가볍지 않구나   \n",
       "2       너무재밓었다그래서보는것을추천한다                                               None   \n",
       "3                     교도소                          이야기구먼 ..솔직히 재미는 없다..평점 조정   \n",
       "4                  사이몬페그의  익살스런 연기가 돋보였던 영화!스파이더맨에서 늙어보이기만 했던 커스틴 던스트가 너무...   \n",
       "...                   ...                                                ...   \n",
       "149995                인간이                                    문제지.. 소는 뭔죄인가..   \n",
       "149996                평점이                                          너무 낮아서...   \n",
       "149997                 이게                       뭐요? 한국인은 거들먹거리고 필리핀 혼혈은 착하다?   \n",
       "149998                 청춘                           영화의 최고봉.방황과 우울했던 날들의 자화상   \n",
       "149999                 한국                              영화 최초로 수간하는 내용이 담긴 영화   \n",
       "\n",
       "              document_1n document_2n   \n",
       "0                       아              \\\n",
       "1               흠...포스터보고               \n",
       "2       너무재밓었다그래서보는것을추천한다               \n",
       "3                     교도소               \n",
       "4                  사이몬페그의               \n",
       "...                   ...         ...   \n",
       "149995                인간이               \n",
       "149996                평점이               \n",
       "149997                 이게               \n",
       "149998                 청춘               \n",
       "149999                 한국               \n",
       "\n",
       "                                              document_3n  \n",
       "0                                       더빙.. 진짜 짜증나네요 목소리  \n",
       "1                                 초딩영화줄....오버연기조차 가볍지 않구나  \n",
       "2                                                          \n",
       "3                               이야기구먼 ..솔직히 재미는 없다..평점 조정  \n",
       "4       익살스런 연기가 돋보였던 영화!스파이더맨에서 늙어보이기만 했던 커스틴 던스트가 너무...  \n",
       "...                                                   ...  \n",
       "149995                                    문제지.. 소는 뭔죄인가..  \n",
       "149996                                          너무 낮아서...  \n",
       "149997                       뭐요? 한국인은 거들먹거리고 필리핀 혼혈은 착하다?  \n",
       "149998                           영화의 최고봉.방황과 우울했던 날들의 자화상  \n",
       "149999                              영화 최초로 수간하는 내용이 담긴 영화  \n",
       "\n",
       "[150000 rows x 9 columns]"
      ]
     },
     "execution_count": 42,
     "metadata": {},
     "output_type": "execute_result"
    }
   ],
   "source": [
    "df"
   ]
  },
  {
   "cell_type": "markdown",
   "id": "926a7361",
   "metadata": {},
   "source": [
    "### 영문 대소문자 바꾸기\n",
    "- lower- 소문자 변경\n",
    "- upper- 대문자 변경\n",
    "- capitailize - 앞문자 대문자로 변경\n",
    "- title - 단위별 앞문자 대문자로 변경\n",
    "- swapcase - 소문자는 대문자, 대문자는 소문자로 변경\n",
    "\n",
    "### 필수과제1\n",
    "- 영문데이터를 가지고 실제 대소문자를 바꿔보는 str문법 적용\n",
    "- 그 외에 split, 아래에 배우는 find 등 다양한 문법에도 응용"
   ]
  },
  {
   "cell_type": "markdown",
   "id": "e220cbb9",
   "metadata": {},
   "source": [
    "- replace 문법"
   ]
  },
  {
   "cell_type": "code",
   "execution_count": 44,
   "id": "580c8e20",
   "metadata": {},
   "outputs": [
    {
     "data": {
      "text/plain": [
       "0                                       아 더빙** 진짜 짜증나네요 목소리\n",
       "1                         흠***포스터보고 초딩영화줄****오버연기조차 가볍지 않구나\n",
       "2                                         너무재밓었다그래서보는것을추천한다\n",
       "3                             교도소 이야기구먼 **솔직히 재미는 없다**평점 조정\n",
       "4         사이몬페그의 익살스런 연기가 돋보였던 영화!스파이더맨에서 늙어보이기만 했던 커스틴 ...\n",
       "                                ...                        \n",
       "149995                                  인간이 문제지** 소는 뭔죄인가**\n",
       "149996                                        평점이 너무 낮아서***\n",
       "149997                      이게 뭐요? 한국인은 거들먹거리고 필리핀 혼혈은 착하다?\n",
       "149998                          청춘 영화의 최고봉*방황과 우울했던 날들의 자화상\n",
       "149999                             한국 영화 최초로 수간하는 내용이 담긴 영화\n",
       "Name: document, Length: 150000, dtype: object"
      ]
     },
     "execution_count": 44,
     "metadata": {},
     "output_type": "execute_result"
    }
   ],
   "source": [
    "df['document'].str.replace(pat='.', repl='*', regex=False)"
   ]
  },
  {
   "cell_type": "code",
   "execution_count": 45,
   "id": "362803d3",
   "metadata": {},
   "outputs": [
    {
     "data": {
      "text/plain": [
       "0                                         아 더빙 진짜 짜증나네요 목소리\n",
       "1                                흠포스터보고 초딩영화줄오버연기조차 가볍지 않구나\n",
       "2                                         너무재밓었다그래서보는것을추천한다\n",
       "3                                 교도소 이야기구먼 솔직히 재미는 없다평점 조정\n",
       "4         사이몬페그의 익살스런 연기가 돋보였던 영화!스파이더맨에서 늙어보이기만 했던 커스틴 ...\n",
       "                                ...                        \n",
       "149995                                      인간이 문제지 소는 뭔죄인가\n",
       "149996                                           평점이 너무 낮아서\n",
       "149997                      이게 뭐요? 한국인은 거들먹거리고 필리핀 혼혈은 착하다?\n",
       "149998                           청춘 영화의 최고봉방황과 우울했던 날들의 자화상\n",
       "149999                             한국 영화 최초로 수간하는 내용이 담긴 영화\n",
       "Name: document, Length: 150000, dtype: object"
      ]
     },
     "execution_count": 45,
     "metadata": {},
     "output_type": "execute_result"
    }
   ],
   "source": [
    "df['document'].str.replace(pat='.', repl='', regex=False) # 원하는 문자열 패턴 지우기"
   ]
  },
  {
   "cell_type": "markdown",
   "id": "05c0bcb3",
   "metadata": {},
   "source": [
    "- find함수"
   ]
  },
  {
   "cell_type": "code",
   "execution_count": 47,
   "id": "0954b460",
   "metadata": {},
   "outputs": [],
   "source": [
    "df['document_non']= df['document'].str.find(sub='.') # 해당 문자가 어디에 있는지 인덱스를 반환 하는 것, -1 없는 값"
   ]
  },
  {
   "cell_type": "code",
   "execution_count": 53,
   "id": "9ab0c1dd",
   "metadata": {},
   "outputs": [],
   "source": [
    "#정규표현식을 같이 이용\n",
    "df['findall_docu']=df['document'].str.findall(pat='[재미]') # 다양한 정규표현식을 뺄 수 있다"
   ]
  },
  {
   "cell_type": "code",
   "execution_count": 56,
   "id": "94381668",
   "metadata": {},
   "outputs": [],
   "source": [
    "#findall 정규표현식과 응용해서 전처리가 가능\n",
    "df['findall_num']=df['document'].str.findall(pat='[0-9]+')"
   ]
  },
  {
   "cell_type": "markdown",
   "id": "8a11a12c",
   "metadata": {},
   "source": [
    "- slice\n",
    "- 특정 인덱스의 값을 잘라낸다! 반환할 수 있다.\n",
    "- slice_replace\n",
    "- 해당 사이의 인덱스값을 다른 값으로 바꿈"
   ]
  },
  {
   "cell_type": "code",
   "execution_count": 58,
   "id": "41228f91",
   "metadata": {},
   "outputs": [
    {
     "data": {
      "text/plain": [
       "0                                          !.. 진짜 짜증나네요 목소리\n",
       "1                            !포스터보고 초딩영화줄....오버연기조차 가볍지 않구나\n",
       "2                                            !었다그래서보는것을추천한다\n",
       "3                                !이야기구먼 ..솔직히 재미는 없다..평점 조정\n",
       "4         !그의 익살스런 연기가 돋보였던 영화!스파이더맨에서 늙어보이기만 했던 커스틴 던스트...\n",
       "                                ...                        \n",
       "149995                                     !문제지.. 소는 뭔죄인가..\n",
       "149996                                           !너무 낮아서...\n",
       "149997                         !요? 한국인은 거들먹거리고 필리핀 혼혈은 착하다?\n",
       "149998                             !화의 최고봉.방황과 우울했던 날들의 자화상\n",
       "149999                                !화 최초로 수간하는 내용이 담긴 영화\n",
       "Name: document, Length: 150000, dtype: object"
      ]
     },
     "execution_count": 58,
     "metadata": {},
     "output_type": "execute_result"
    }
   ],
   "source": [
    "df['document'].str.slice_replace(start=0, stop=4, repl='!') # 0부터 4까지의 전체 데이터를 날려서 삭제 "
   ]
  },
  {
   "cell_type": "code",
   "execution_count": 60,
   "id": "cbaf551a",
   "metadata": {},
   "outputs": [],
   "source": [
    "df['document_0_5']=df['document'].str.slice(start=0, stop=5)"
   ]
  },
  {
   "cell_type": "code",
   "execution_count": 61,
   "id": "2a87e7f4",
   "metadata": {},
   "outputs": [
    {
     "data": {
      "text/html": [
       "<div>\n",
       "<style scoped>\n",
       "    .dataframe tbody tr th:only-of-type {\n",
       "        vertical-align: middle;\n",
       "    }\n",
       "\n",
       "    .dataframe tbody tr th {\n",
       "        vertical-align: top;\n",
       "    }\n",
       "\n",
       "    .dataframe thead th {\n",
       "        text-align: right;\n",
       "    }\n",
       "</style>\n",
       "<table border=\"1\" class=\"dataframe\">\n",
       "  <thead>\n",
       "    <tr style=\"text-align: right;\">\n",
       "      <th></th>\n",
       "      <th>Unnamed: 0</th>\n",
       "      <th>id</th>\n",
       "      <th>document</th>\n",
       "      <th>label</th>\n",
       "      <th>document_1</th>\n",
       "      <th>document_2</th>\n",
       "      <th>document_1n</th>\n",
       "      <th>document_2n</th>\n",
       "      <th>document_3n</th>\n",
       "      <th>document_non</th>\n",
       "      <th>findall_docu</th>\n",
       "      <th>findall_num</th>\n",
       "      <th>document_0_5</th>\n",
       "    </tr>\n",
       "  </thead>\n",
       "  <tbody>\n",
       "    <tr>\n",
       "      <th>0</th>\n",
       "      <td>0</td>\n",
       "      <td>9976970</td>\n",
       "      <td>아 더빙.. 진짜 짜증나네요 목소리</td>\n",
       "      <td>0</td>\n",
       "      <td>아</td>\n",
       "      <td>더빙.. 진짜 짜증나네요 목소리</td>\n",
       "      <td>아</td>\n",
       "      <td></td>\n",
       "      <td>더빙.. 진짜 짜증나네요 목소리</td>\n",
       "      <td>4.0</td>\n",
       "      <td>[]</td>\n",
       "      <td>[]</td>\n",
       "      <td>아 더빙.</td>\n",
       "    </tr>\n",
       "    <tr>\n",
       "      <th>1</th>\n",
       "      <td>1</td>\n",
       "      <td>3819312</td>\n",
       "      <td>흠...포스터보고 초딩영화줄....오버연기조차 가볍지 않구나</td>\n",
       "      <td>1</td>\n",
       "      <td>흠...포스터보고</td>\n",
       "      <td>초딩영화줄....오버연기조차 가볍지 않구나</td>\n",
       "      <td>흠...포스터보고</td>\n",
       "      <td></td>\n",
       "      <td>초딩영화줄....오버연기조차 가볍지 않구나</td>\n",
       "      <td>1.0</td>\n",
       "      <td>[]</td>\n",
       "      <td>[]</td>\n",
       "      <td>흠...포</td>\n",
       "    </tr>\n",
       "    <tr>\n",
       "      <th>2</th>\n",
       "      <td>2</td>\n",
       "      <td>10265843</td>\n",
       "      <td>너무재밓었다그래서보는것을추천한다</td>\n",
       "      <td>0</td>\n",
       "      <td>너무재밓었다그래서보는것을추천한다</td>\n",
       "      <td>None</td>\n",
       "      <td>너무재밓었다그래서보는것을추천한다</td>\n",
       "      <td></td>\n",
       "      <td></td>\n",
       "      <td>-1.0</td>\n",
       "      <td>[재]</td>\n",
       "      <td>[]</td>\n",
       "      <td>너무재밓었</td>\n",
       "    </tr>\n",
       "    <tr>\n",
       "      <th>3</th>\n",
       "      <td>3</td>\n",
       "      <td>9045019</td>\n",
       "      <td>교도소 이야기구먼 ..솔직히 재미는 없다..평점 조정</td>\n",
       "      <td>0</td>\n",
       "      <td>교도소</td>\n",
       "      <td>이야기구먼 ..솔직히 재미는 없다..평점 조정</td>\n",
       "      <td>교도소</td>\n",
       "      <td></td>\n",
       "      <td>이야기구먼 ..솔직히 재미는 없다..평점 조정</td>\n",
       "      <td>10.0</td>\n",
       "      <td>[재, 미]</td>\n",
       "      <td>[]</td>\n",
       "      <td>교도소 이</td>\n",
       "    </tr>\n",
       "    <tr>\n",
       "      <th>4</th>\n",
       "      <td>4</td>\n",
       "      <td>6483659</td>\n",
       "      <td>사이몬페그의 익살스런 연기가 돋보였던 영화!스파이더맨에서 늙어보이기만 했던 커스틴 ...</td>\n",
       "      <td>1</td>\n",
       "      <td>사이몬페그의</td>\n",
       "      <td>익살스런 연기가 돋보였던 영화!스파이더맨에서 늙어보이기만 했던 커스틴 던스트가 너무...</td>\n",
       "      <td>사이몬페그의</td>\n",
       "      <td></td>\n",
       "      <td>익살스런 연기가 돋보였던 영화!스파이더맨에서 늙어보이기만 했던 커스틴 던스트가 너무...</td>\n",
       "      <td>-1.0</td>\n",
       "      <td>[]</td>\n",
       "      <td>[]</td>\n",
       "      <td>사이몬페그</td>\n",
       "    </tr>\n",
       "    <tr>\n",
       "      <th>...</th>\n",
       "      <td>...</td>\n",
       "      <td>...</td>\n",
       "      <td>...</td>\n",
       "      <td>...</td>\n",
       "      <td>...</td>\n",
       "      <td>...</td>\n",
       "      <td>...</td>\n",
       "      <td>...</td>\n",
       "      <td>...</td>\n",
       "      <td>...</td>\n",
       "      <td>...</td>\n",
       "      <td>...</td>\n",
       "      <td>...</td>\n",
       "    </tr>\n",
       "    <tr>\n",
       "      <th>149995</th>\n",
       "      <td>149995</td>\n",
       "      <td>6222902</td>\n",
       "      <td>인간이 문제지.. 소는 뭔죄인가..</td>\n",
       "      <td>0</td>\n",
       "      <td>인간이</td>\n",
       "      <td>문제지.. 소는 뭔죄인가..</td>\n",
       "      <td>인간이</td>\n",
       "      <td></td>\n",
       "      <td>문제지.. 소는 뭔죄인가..</td>\n",
       "      <td>7.0</td>\n",
       "      <td>[]</td>\n",
       "      <td>[]</td>\n",
       "      <td>인간이 문</td>\n",
       "    </tr>\n",
       "    <tr>\n",
       "      <th>149996</th>\n",
       "      <td>149996</td>\n",
       "      <td>8549745</td>\n",
       "      <td>평점이 너무 낮아서...</td>\n",
       "      <td>1</td>\n",
       "      <td>평점이</td>\n",
       "      <td>너무 낮아서...</td>\n",
       "      <td>평점이</td>\n",
       "      <td></td>\n",
       "      <td>너무 낮아서...</td>\n",
       "      <td>10.0</td>\n",
       "      <td>[]</td>\n",
       "      <td>[]</td>\n",
       "      <td>평점이 너</td>\n",
       "    </tr>\n",
       "    <tr>\n",
       "      <th>149997</th>\n",
       "      <td>149997</td>\n",
       "      <td>9311800</td>\n",
       "      <td>이게 뭐요? 한국인은 거들먹거리고 필리핀 혼혈은 착하다?</td>\n",
       "      <td>0</td>\n",
       "      <td>이게</td>\n",
       "      <td>뭐요? 한국인은 거들먹거리고 필리핀 혼혈은 착하다?</td>\n",
       "      <td>이게</td>\n",
       "      <td></td>\n",
       "      <td>뭐요? 한국인은 거들먹거리고 필리핀 혼혈은 착하다?</td>\n",
       "      <td>-1.0</td>\n",
       "      <td>[]</td>\n",
       "      <td>[]</td>\n",
       "      <td>이게 뭐요</td>\n",
       "    </tr>\n",
       "    <tr>\n",
       "      <th>149998</th>\n",
       "      <td>149998</td>\n",
       "      <td>2376369</td>\n",
       "      <td>청춘 영화의 최고봉.방황과 우울했던 날들의 자화상</td>\n",
       "      <td>1</td>\n",
       "      <td>청춘</td>\n",
       "      <td>영화의 최고봉.방황과 우울했던 날들의 자화상</td>\n",
       "      <td>청춘</td>\n",
       "      <td></td>\n",
       "      <td>영화의 최고봉.방황과 우울했던 날들의 자화상</td>\n",
       "      <td>10.0</td>\n",
       "      <td>[]</td>\n",
       "      <td>[]</td>\n",
       "      <td>청춘 영화</td>\n",
       "    </tr>\n",
       "    <tr>\n",
       "      <th>149999</th>\n",
       "      <td>149999</td>\n",
       "      <td>9619869</td>\n",
       "      <td>한국 영화 최초로 수간하는 내용이 담긴 영화</td>\n",
       "      <td>0</td>\n",
       "      <td>한국</td>\n",
       "      <td>영화 최초로 수간하는 내용이 담긴 영화</td>\n",
       "      <td>한국</td>\n",
       "      <td></td>\n",
       "      <td>영화 최초로 수간하는 내용이 담긴 영화</td>\n",
       "      <td>-1.0</td>\n",
       "      <td>[]</td>\n",
       "      <td>[]</td>\n",
       "      <td>한국 영화</td>\n",
       "    </tr>\n",
       "  </tbody>\n",
       "</table>\n",
       "<p>150000 rows × 13 columns</p>\n",
       "</div>"
      ],
      "text/plain": [
       "        Unnamed: 0        id   \n",
       "0                0   9976970  \\\n",
       "1                1   3819312   \n",
       "2                2  10265843   \n",
       "3                3   9045019   \n",
       "4                4   6483659   \n",
       "...            ...       ...   \n",
       "149995      149995   6222902   \n",
       "149996      149996   8549745   \n",
       "149997      149997   9311800   \n",
       "149998      149998   2376369   \n",
       "149999      149999   9619869   \n",
       "\n",
       "                                                 document  label   \n",
       "0                                     아 더빙.. 진짜 짜증나네요 목소리      0  \\\n",
       "1                       흠...포스터보고 초딩영화줄....오버연기조차 가볍지 않구나      1   \n",
       "2                                       너무재밓었다그래서보는것을추천한다      0   \n",
       "3                           교도소 이야기구먼 ..솔직히 재미는 없다..평점 조정      0   \n",
       "4       사이몬페그의 익살스런 연기가 돋보였던 영화!스파이더맨에서 늙어보이기만 했던 커스틴 ...      1   \n",
       "...                                                   ...    ...   \n",
       "149995                                인간이 문제지.. 소는 뭔죄인가..      0   \n",
       "149996                                      평점이 너무 낮아서...      1   \n",
       "149997                    이게 뭐요? 한국인은 거들먹거리고 필리핀 혼혈은 착하다?      0   \n",
       "149998                        청춘 영화의 최고봉.방황과 우울했던 날들의 자화상      1   \n",
       "149999                           한국 영화 최초로 수간하는 내용이 담긴 영화      0   \n",
       "\n",
       "               document_1                                         document_2   \n",
       "0                       아                                  더빙.. 진짜 짜증나네요 목소리  \\\n",
       "1               흠...포스터보고                            초딩영화줄....오버연기조차 가볍지 않구나   \n",
       "2       너무재밓었다그래서보는것을추천한다                                               None   \n",
       "3                     교도소                          이야기구먼 ..솔직히 재미는 없다..평점 조정   \n",
       "4                  사이몬페그의  익살스런 연기가 돋보였던 영화!스파이더맨에서 늙어보이기만 했던 커스틴 던스트가 너무...   \n",
       "...                   ...                                                ...   \n",
       "149995                인간이                                    문제지.. 소는 뭔죄인가..   \n",
       "149996                평점이                                          너무 낮아서...   \n",
       "149997                 이게                       뭐요? 한국인은 거들먹거리고 필리핀 혼혈은 착하다?   \n",
       "149998                 청춘                           영화의 최고봉.방황과 우울했던 날들의 자화상   \n",
       "149999                 한국                              영화 최초로 수간하는 내용이 담긴 영화   \n",
       "\n",
       "              document_1n document_2n   \n",
       "0                       아              \\\n",
       "1               흠...포스터보고               \n",
       "2       너무재밓었다그래서보는것을추천한다               \n",
       "3                     교도소               \n",
       "4                  사이몬페그의               \n",
       "...                   ...         ...   \n",
       "149995                인간이               \n",
       "149996                평점이               \n",
       "149997                 이게               \n",
       "149998                 청춘               \n",
       "149999                 한국               \n",
       "\n",
       "                                              document_3n  document_non   \n",
       "0                                       더빙.. 진짜 짜증나네요 목소리           4.0  \\\n",
       "1                                 초딩영화줄....오버연기조차 가볍지 않구나           1.0   \n",
       "2                                                                  -1.0   \n",
       "3                               이야기구먼 ..솔직히 재미는 없다..평점 조정          10.0   \n",
       "4       익살스런 연기가 돋보였던 영화!스파이더맨에서 늙어보이기만 했던 커스틴 던스트가 너무...          -1.0   \n",
       "...                                                   ...           ...   \n",
       "149995                                    문제지.. 소는 뭔죄인가..           7.0   \n",
       "149996                                          너무 낮아서...          10.0   \n",
       "149997                       뭐요? 한국인은 거들먹거리고 필리핀 혼혈은 착하다?          -1.0   \n",
       "149998                           영화의 최고봉.방황과 우울했던 날들의 자화상          10.0   \n",
       "149999                              영화 최초로 수간하는 내용이 담긴 영화          -1.0   \n",
       "\n",
       "       findall_docu findall_num document_0_5  \n",
       "0                []          []        아 더빙.  \n",
       "1                []          []        흠...포  \n",
       "2               [재]          []        너무재밓었  \n",
       "3            [재, 미]          []        교도소 이  \n",
       "4                []          []        사이몬페그  \n",
       "...             ...         ...          ...  \n",
       "149995           []          []        인간이 문  \n",
       "149996           []          []        평점이 너  \n",
       "149997           []          []        이게 뭐요  \n",
       "149998           []          []        청춘 영화  \n",
       "149999           []          []        한국 영화  \n",
       "\n",
       "[150000 rows x 13 columns]"
      ]
     },
     "execution_count": 61,
     "metadata": {},
     "output_type": "execute_result"
    }
   ],
   "source": [
    "df"
   ]
  },
  {
   "cell_type": "markdown",
   "id": "64e5399c",
   "metadata": {},
   "source": [
    "- len() 함수 이용해서도 전처리 가능"
   ]
  },
  {
   "cell_type": "code",
   "execution_count": 67,
   "id": "6c726294",
   "metadata": {},
   "outputs": [],
   "source": [
    "df['document_len']=df['document'].str.len() # 전체 리뷰의 대한 길이를 만들 수 있다."
   ]
  },
  {
   "cell_type": "code",
   "execution_count": 71,
   "id": "e5f67bd0",
   "metadata": {},
   "outputs": [],
   "source": [
    "import matplotlib.pyplot as plt"
   ]
  },
  {
   "cell_type": "code",
   "execution_count": 72,
   "id": "3c9ac130",
   "metadata": {},
   "outputs": [
    {
     "data": {
      "text/plain": [
       "(array([36766., 46098., 33551., 12015.,  6098.,  3990.,  3136.,  2231.,\n",
       "         2361.,  3749.]),\n",
       " array([  1. ,  15.5,  30. ,  44.5,  59. ,  73.5,  88. , 102.5, 117. ,\n",
       "        131.5, 146. ]),\n",
       " <BarContainer object of 10 artists>)"
      ]
     },
     "execution_count": 72,
     "metadata": {},
     "output_type": "execute_result"
    },
    {
     "data": {
      "image/png": "[encoded data removed]",
      "text/plain": [
       "<Figure size 640x480 with 1 Axes>"
      ]
     },
     "metadata": {},
     "output_type": "display_data"
    }
   ],
   "source": [
    "plt.hist(df['document_len']) # 어떤식의 분포를 이루는지 전체 리뷰의 길이를 알 수 있다."
   ]
  },
  {
   "cell_type": "code",
   "execution_count": 74,
   "id": "1eafcee8",
   "metadata": {},
   "outputs": [
    {
     "data": {
      "text/plain": [
       "label\n",
       "0    75173\n",
       "1    74827\n",
       "Name: count, dtype: int64"
      ]
     },
     "execution_count": 74,
     "metadata": {},
     "output_type": "execute_result"
    }
   ],
   "source": [
    "df['label'].value_counts() # 긍부정 컬럼이 있음"
   ]
  },
  {
   "cell_type": "code",
   "execution_count": 75,
   "id": "4e101d37",
   "metadata": {},
   "outputs": [
    {
     "data": {
      "text/html": [
       "<div>\n",
       "<style scoped>\n",
       "    .dataframe tbody tr th:only-of-type {\n",
       "        vertical-align: middle;\n",
       "    }\n",
       "\n",
       "    .dataframe tbody tr th {\n",
       "        vertical-align: top;\n",
       "    }\n",
       "\n",
       "    .dataframe thead th {\n",
       "        text-align: right;\n",
       "    }\n",
       "</style>\n",
       "<table border=\"1\" class=\"dataframe\">\n",
       "  <thead>\n",
       "    <tr style=\"text-align: right;\">\n",
       "      <th></th>\n",
       "      <th>Unnamed: 0</th>\n",
       "      <th>id</th>\n",
       "      <th>document</th>\n",
       "      <th>label</th>\n",
       "      <th>document_len</th>\n",
       "    </tr>\n",
       "  </thead>\n",
       "  <tbody>\n",
       "    <tr>\n",
       "      <th>0</th>\n",
       "      <td>0</td>\n",
       "      <td>9976970</td>\n",
       "      <td>아 더빙.. 진짜 짜증나네요 목소리</td>\n",
       "      <td>0</td>\n",
       "      <td>19.0</td>\n",
       "    </tr>\n",
       "    <tr>\n",
       "      <th>1</th>\n",
       "      <td>1</td>\n",
       "      <td>3819312</td>\n",
       "      <td>흠...포스터보고 초딩영화줄....오버연기조차 가볍지 않구나</td>\n",
       "      <td>1</td>\n",
       "      <td>33.0</td>\n",
       "    </tr>\n",
       "    <tr>\n",
       "      <th>2</th>\n",
       "      <td>2</td>\n",
       "      <td>10265843</td>\n",
       "      <td>너무재밓었다그래서보는것을추천한다</td>\n",
       "      <td>0</td>\n",
       "      <td>17.0</td>\n",
       "    </tr>\n",
       "    <tr>\n",
       "      <th>3</th>\n",
       "      <td>3</td>\n",
       "      <td>9045019</td>\n",
       "      <td>교도소 이야기구먼 ..솔직히 재미는 없다..평점 조정</td>\n",
       "      <td>0</td>\n",
       "      <td>29.0</td>\n",
       "    </tr>\n",
       "    <tr>\n",
       "      <th>4</th>\n",
       "      <td>4</td>\n",
       "      <td>6483659</td>\n",
       "      <td>사이몬페그의 익살스런 연기가 돋보였던 영화!스파이더맨에서 늙어보이기만 했던 커스틴 ...</td>\n",
       "      <td>1</td>\n",
       "      <td>61.0</td>\n",
       "    </tr>\n",
       "    <tr>\n",
       "      <th>...</th>\n",
       "      <td>...</td>\n",
       "      <td>...</td>\n",
       "      <td>...</td>\n",
       "      <td>...</td>\n",
       "      <td>...</td>\n",
       "    </tr>\n",
       "    <tr>\n",
       "      <th>149995</th>\n",
       "      <td>149995</td>\n",
       "      <td>6222902</td>\n",
       "      <td>인간이 문제지.. 소는 뭔죄인가..</td>\n",
       "      <td>0</td>\n",
       "      <td>19.0</td>\n",
       "    </tr>\n",
       "    <tr>\n",
       "      <th>149996</th>\n",
       "      <td>149996</td>\n",
       "      <td>8549745</td>\n",
       "      <td>평점이 너무 낮아서...</td>\n",
       "      <td>1</td>\n",
       "      <td>13.0</td>\n",
       "    </tr>\n",
       "    <tr>\n",
       "      <th>149997</th>\n",
       "      <td>149997</td>\n",
       "      <td>9311800</td>\n",
       "      <td>이게 뭐요? 한국인은 거들먹거리고 필리핀 혼혈은 착하다?</td>\n",
       "      <td>0</td>\n",
       "      <td>31.0</td>\n",
       "    </tr>\n",
       "    <tr>\n",
       "      <th>149998</th>\n",
       "      <td>149998</td>\n",
       "      <td>2376369</td>\n",
       "      <td>청춘 영화의 최고봉.방황과 우울했던 날들의 자화상</td>\n",
       "      <td>1</td>\n",
       "      <td>27.0</td>\n",
       "    </tr>\n",
       "    <tr>\n",
       "      <th>149999</th>\n",
       "      <td>149999</td>\n",
       "      <td>9619869</td>\n",
       "      <td>한국 영화 최초로 수간하는 내용이 담긴 영화</td>\n",
       "      <td>0</td>\n",
       "      <td>24.0</td>\n",
       "    </tr>\n",
       "  </tbody>\n",
       "</table>\n",
       "<p>150000 rows × 5 columns</p>\n",
       "</div>"
      ],
      "text/plain": [
       "        Unnamed: 0        id   \n",
       "0                0   9976970  \\\n",
       "1                1   3819312   \n",
       "2                2  10265843   \n",
       "3                3   9045019   \n",
       "4                4   6483659   \n",
       "...            ...       ...   \n",
       "149995      149995   6222902   \n",
       "149996      149996   8549745   \n",
       "149997      149997   9311800   \n",
       "149998      149998   2376369   \n",
       "149999      149999   9619869   \n",
       "\n",
       "                                                 document  label  document_len  \n",
       "0                                     아 더빙.. 진짜 짜증나네요 목소리      0          19.0  \n",
       "1                       흠...포스터보고 초딩영화줄....오버연기조차 가볍지 않구나      1          33.0  \n",
       "2                                       너무재밓었다그래서보는것을추천한다      0          17.0  \n",
       "3                           교도소 이야기구먼 ..솔직히 재미는 없다..평점 조정      0          29.0  \n",
       "4       사이몬페그의 익살스런 연기가 돋보였던 영화!스파이더맨에서 늙어보이기만 했던 커스틴 ...      1          61.0  \n",
       "...                                                   ...    ...           ...  \n",
       "149995                                인간이 문제지.. 소는 뭔죄인가..      0          19.0  \n",
       "149996                                      평점이 너무 낮아서...      1          13.0  \n",
       "149997                    이게 뭐요? 한국인은 거들먹거리고 필리핀 혼혈은 착하다?      0          31.0  \n",
       "149998                        청춘 영화의 최고봉.방황과 우울했던 날들의 자화상      1          27.0  \n",
       "149999                           한국 영화 최초로 수간하는 내용이 담긴 영화      0          24.0  \n",
       "\n",
       "[150000 rows x 5 columns]"
      ]
     },
     "execution_count": 75,
     "metadata": {},
     "output_type": "execute_result"
    }
   ],
   "source": [
    "df"
   ]
  },
  {
   "cell_type": "code",
   "execution_count": null,
   "id": "4626090f",
   "metadata": {},
   "outputs": [],
   "source": []
  }
 ],
 "metadata": {
  "kernelspec": {
   "display_name": "Python 3 (ipykernel)",
   "language": "python",
   "name": "python3"
  },
  "language_info": {
   "codemirror_mode": {
    "name": "ipython",
    "version": 3
   },
   "file_extension": ".py",
   "mimetype": "text/x-python",
   "name": "python",
   "nbconvert_exporter": "python",
   "pygments_lexer": "ipython3",
   "version": "3.8.16"
  }
 },
 "nbformat": 4,
 "nbformat_minor": 5
}
